{
 "cells": [
  {
   "cell_type": "code",
   "execution_count": null,
   "metadata": {},
   "outputs": [],
   "source": []
  },
  {
   "cell_type": "markdown",
   "metadata": {},
   "source": [
    "\n",
    "\n",
    "\n",
    "some projects with sql: \n",
    "1. notes - nlp processing\n",
    "2. my 缺点和优点 mistakes i made\n",
    "3. link summarizor -- summarize the transcript as for the problems and solutions in a podcast "
   ]
  },
  {
   "cell_type": "code",
   "execution_count": null,
   "metadata": {},
   "outputs": [],
   "source": [
    "# Import necessary libraries\n",
    "import os\n",
    "import sqlite3\n",
    "import spacy\n",
    "\n",
    "# Load the NLP model\n",
    "nlp = spacy.load(\"en_core_web_sm\")\n",
    "\n",
    "# Step 1: Define a function to read all .md files in a folder\n",
    "def read_md_files(folder_path):\n",
    "    md_files = [f for f in os.listdir(folder_path) if f.endswith('.md')]\n",
    "    file_contents = {}\n",
    "    for file in md_files:\n",
    "        with open(os.path.join(folder_path, file), 'r') as f:\n",
    "            file_contents[file] = f.read()\n",
    "    return file_contents\n",
    "\n",
    "# Step 2: Define a function to process text using NLP\n",
    "def process_text(text):\n",
    "    doc = nlp(text)\n",
    "    entities = [(ent.text, ent.label_) for ent in doc.ents]\n",
    "    return entities\n",
    "\n",
    "# Step 3: Define a function to store processed data in a database\n",
    "def store_in_db(data, db_path=\"output.db\"):\n",
    "    conn = sqlite3.connect(db_path)\n",
    "    cursor = conn.cursor()\n",
    "    cursor.execute('''CREATE TABLE IF NOT EXISTS nlp_data\n",
    "                      (filename TEXT, entity TEXT, label TEXT)''')\n",
    "    for filename, entities in data.items():\n",
    "        for entity, label in entities:\n",
    "            cursor.execute(\"INSERT INTO nlp_data (filename, entity, label) VALUES (?, ?, ?)\",\n",
    "                           (filename, entity, label))\n",
    "    conn.commit()\n",
    "    conn.close()\n",
    "\n",
    "# Step 4: Main script to iterate through all .md files, process text, and store results\n",
    "def main(folder_path):\n",
    "    file_contents = read_md_files(folder_path)\n",
    "    processed_data = {filename: process_text(content) for filename, content in file_contents.items()}\n",
    "    store_in_db(processed_data)\n",
    "\n",
    "# Example usage\n",
    "folder_path = \"path/to/your/folder\"\n",
    "main(folder_path)"
   ]
  }
 ],
 "metadata": {
  "language_info": {
   "name": "python"
  }
 },
 "nbformat": 4,
 "nbformat_minor": 2
}
