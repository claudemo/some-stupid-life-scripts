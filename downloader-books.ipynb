{
 "cells": [
  {
   "cell_type": "code",
   "execution_count": 1,
   "metadata": {},
   "outputs": [
    {
     "name": "stdout",
     "output_type": "stream",
     "text": [
      "http://libgen.rs/search.php?req=The+Intelligent+Investor&lg_topic=libgen&open=0&view=simple&res=25&phrase=1&column=def\n",
      "http://libgen.rs/search.php?req=Poor+Charlie's+Almanack:+The+Wit+and+Wisdom+of+Charles+T.+Munger&lg_topic=libgen&open=0&view=simple&res=25&phrase=1&column=def\n",
      "http://libgen.rs/search.php?req=The+Outsiders&lg_topic=libgen&open=0&view=simple&res=25&phrase=1&column=def\n",
      "http://libgen.rs/search.php?req=Business+Adventures:+Twelve+Classic+Tales+from+the+World+of+Wall+Street&lg_topic=libgen&open=0&view=simple&res=25&phrase=1&column=def\n",
      "http://libgen.rs/search.php?req=Common+Stocks+and+Uncommon+Profits&lg_topic=libgen&open=0&view=simple&res=25&phrase=1&column=def\n",
      "http://libgen.rs/search.php?req=The+Warren+Buffett+Way&lg_topic=libgen&open=0&view=simple&res=25&phrase=1&column=def\n",
      "http://libgen.rs/search.php?req=Investing+Between+the+Lines:+How+to+Make+Smarter+Decisions+by+Decoding+CEO+Communications&lg_topic=libgen&open=0&view=simple&res=25&phrase=1&column=def\n",
      "http://libgen.rs/search.php?req=Tap+Dancing+to+Work:+Warren+Buffett+on+Practically+Everything&lg_topic=libgen&open=0&view=simple&res=25&phrase=1&column=def\n",
      "http://libgen.rs/search.php?req=The+Essays+of+Warren+Buffett:+Lessons+for+Corporate+America&lg_topic=libgen&open=0&view=simple&res=25&phrase=1&column=def\n",
      "http://libgen.rs/search.php?req=A+Few+Lessons+for+Investors+and+Managers+from+Warren+Buffett&lg_topic=libgen&open=0&view=simple&res=25&phrase=1&column=def\n"
     ]
    }
   ],
   "source": [
    "# List of book titles\n",
    "books = [\n",
    "    \"The Intelligent Investor\",\n",
    "    \"Poor Charlie's Almanack: The Wit and Wisdom of Charles T. Munger\",\n",
    "    \"The Outsiders\",\n",
    "    \"Business Adventures: Twelve Classic Tales from the World of Wall Street\",\n",
    "    \"Common Stocks and Uncommon Profits\",\n",
    "    \"The Warren Buffett Way\",\n",
    "    \"Investing Between the Lines: How to Make Smarter Decisions by Decoding CEO Communications\",\n",
    "    \"Tap Dancing to Work: Warren Buffett on Practically Everything\",\n",
    "    \"The Essays of Warren Buffett: Lessons for Corporate America\",\n",
    "    \"A Few Lessons for Investors and Managers from Warren Buffett\"\n",
    "]\n",
    "\n",
    "# Base URL for LibGen search\n",
    "base_url = \"http://libgen.rs/search.php?\"\n",
    "\n",
    "# Function to generate URLs\n",
    "def generate_urls(books, base_url):\n",
    "    urls = []\n",
    "    for book in books:\n",
    "        formatted_title = '+'.join(book.split())\n",
    "        url = f\"{base_url}req={formatted_title}&lg_topic=libgen&open=0&view=simple&res=25&phrase=1&column=def\"\n",
    "        urls.append(url)\n",
    "    return urls\n",
    "\n",
    "# Generate and print URLs\n",
    "generated_urls = generate_urls(books, base_url)\n",
    "for url in generated_urls:\n",
    "    print(url)"
   ]
  }
 ],
 "metadata": {
  "kernelspec": {
   "display_name": "base",
   "language": "python",
   "name": "python3"
  },
  "language_info": {
   "codemirror_mode": {
    "name": "ipython",
    "version": 3
   },
   "file_extension": ".py",
   "mimetype": "text/x-python",
   "name": "python",
   "nbconvert_exporter": "python",
   "pygments_lexer": "ipython3",
   "version": "3.11.4"
  }
 },
 "nbformat": 4,
 "nbformat_minor": 2
}
